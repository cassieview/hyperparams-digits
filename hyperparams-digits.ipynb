{
 "cells": [
  {
   "cell_type": "code",
   "execution_count": 1,
   "metadata": {
    "scrolled": true
   },
   "outputs": [
    {
     "name": "stdout",
     "output_type": "stream",
     "text": [
      "Azure ML SDK Version:  1.0.53\n"
     ]
    }
   ],
   "source": [
    "import os\n",
    "import json\n",
    "import time\n",
    "import azureml\n",
    "import logging\n",
    "from azureml.core.model import Model\n",
    "from azureml.core import Workspace, Run, Datastore, Experiment\n",
    "from azureml.core.runconfig import RunConfiguration\n",
    "from azureml.core.conda_dependencies import CondaDependencies\n",
    "from azureml.core.compute import ComputeTarget, AmlCompute\n",
    "from azureml.core.compute_target import ComputeTargetException\n",
    "from azureml.train.hyperdrive import *\n",
    "from azureml.train.estimator import Estimator\n",
    "from azureml.widgets import RunDetails\n",
    "\n",
    "print(\"Azure ML SDK Version: \", azureml.core.VERSION)"
   ]
  },
  {
   "cell_type": "code",
   "execution_count": 2,
   "metadata": {},
   "outputs": [
    {
     "name": "stdout",
     "output_type": "stream",
     "text": [
      "Known nbextensions:\r\n",
      "  config dir: /data/home/azureuser/.jupyter/nbconfig\r\n",
      "    notebook section\r\n",
      "      azureml_widgets/extension \u001b[32m enabled \u001b[0m\r\n",
      "      - Validating: \u001b[32mOK\u001b[0m\r\n",
      "      jupyter-js-widgets/extension \u001b[32m enabled \u001b[0m\r\n",
      "      - Validating: \u001b[32mOK\u001b[0m\r\n",
      "  config dir: /data/anaconda/envs/py35/etc/jupyter/nbconfig\r\n",
      "    notebook section\r\n",
      "      nbpresent/js/nbpresent.min \u001b[31mdisabled\u001b[0m\r\n",
      "      azureml_widgets/extension \u001b[32m enabled \u001b[0m\r\n",
      "      - Validating: \u001b[32mOK\u001b[0m\r\n",
      "      plotlywidget/extension \u001b[32m enabled \u001b[0m\r\n",
      "      - Validating: \u001b[32mOK\u001b[0m\r\n",
      "      jupyter-js-widgets/extension \u001b[32m enabled \u001b[0m\r\n",
      "      - Validating: \u001b[32mOK\u001b[0m\r\n",
      "      nb_conda/main \u001b[32m enabled \u001b[0m\r\n",
      "      - Validating: \u001b[32mOK\u001b[0m\r\n",
      "    tree section\r\n",
      "      nb_conda/tree \u001b[32m enabled \u001b[0m\r\n",
      "      - Validating: \u001b[32mOK\u001b[0m\r\n"
     ]
    }
   ],
   "source": [
    "!jupyter nbextension list"
   ]
  },
  {
   "cell_type": "code",
   "execution_count": 3,
   "metadata": {},
   "outputs": [],
   "source": [
    "#!jupyter nbextension install --py --user azureml.widgets"
   ]
  },
  {
   "cell_type": "code",
   "execution_count": 4,
   "metadata": {},
   "outputs": [],
   "source": [
    "#!jupyter nbextension enable azureml.widgets --user --py"
   ]
  },
  {
   "cell_type": "code",
   "execution_count": 5,
   "metadata": {},
   "outputs": [],
   "source": [
    "#!pip install azureml.train\n",
    "#!pip install azureml.widgets\n"
   ]
  },
  {
   "cell_type": "code",
   "execution_count": 6,
   "metadata": {},
   "outputs": [],
   "source": [
    "#!pip install --upgrade azureml-sdk[notebooks,explain,automl]"
   ]
  },
  {
   "cell_type": "code",
   "execution_count": 7,
   "metadata": {},
   "outputs": [],
   "source": [
    "# use this code to set up config file\n",
    "#subscription_id ='<SUB_ID>'\n",
    "#resource_group ='<RESOURCE_GROUP>'\n",
    "#workspace_name = '<WORKSPACE>'\n",
    "\n",
    "#try:\n",
    "#    ws = Workspace(subscription_id = subscription_id, resource_group = resource_group, workspace_name = workspace_name)\n",
    "#    ws.write_config()\n",
    "#    print('Workspace configuration succeeded. You are all set!')\n",
    "#except:\n",
    "#    print('Workspace not found. TOO MANY ISSUES!!!')\n",
    "ws = Workspace.from_config()"
   ]
  },
  {
   "cell_type": "markdown",
   "metadata": {},
   "source": [
    "# Compute Environment"
   ]
  },
  {
   "cell_type": "code",
   "execution_count": 8,
   "metadata": {},
   "outputs": [
    {
     "name": "stdout",
     "output_type": "stream",
     "text": [
      "Found existing compute target\n"
     ]
    }
   ],
   "source": [
    "cluster = 'Workshop'\n",
    "try:\n",
    "    compute = ComputeTarget(workspace=ws, name=cluster)\n",
    "    print('Found existing compute target')\n",
    "except ComputeTargetException:\n",
    "    print('Creating a new compute target...')\n",
    "    compute_config = AmlCompute.provisioning_configuration(vm_size='STANDARD_NC12', min_nodes=1, max_nodes=5)\n",
    "    compute = ComputeTarget.create(ws, cluster, compute_config)\n",
    "    compute.wait_for_completion(show_output=True)\n",
    "    "
   ]
  },
  {
   "cell_type": "markdown",
   "metadata": {},
   "source": [
    "# Manage Data"
   ]
  },
  {
   "cell_type": "code",
   "execution_count": 9,
   "metadata": {},
   "outputs": [
    {
     "name": "stdout",
     "output_type": "stream",
     "text": [
      "Uploading an estimated of 46 files\n",
      "Target already exists. Skipping upload for mnist/.gitignore\n",
      "Target already exists. Skipping upload for mnist/amlcallback.py\n",
      "Target already exists. Skipping upload for mnist/control.ipynb\n",
      "Target already exists. Skipping upload for mnist/LICENSE\n",
      "Target already exists. Skipping upload for mnist/README.md\n",
      "Target already exists. Skipping upload for mnist/requirements.txt\n",
      "Target already exists. Skipping upload for mnist/train.py\n",
      "Target already exists. Skipping upload for mnist/.git/config\n",
      "Target already exists. Skipping upload for mnist/.git/description\n",
      "Target already exists. Skipping upload for mnist/.git/HEAD\n",
      "Target already exists. Skipping upload for mnist/.git/index\n",
      "Target already exists. Skipping upload for mnist/.git/packed-refs\n",
      "Target already exists. Skipping upload for mnist/.git/hooks/applypatch-msg.sample\n",
      "Target already exists. Skipping upload for mnist/.git/hooks/commit-msg.sample\n",
      "Target already exists. Skipping upload for mnist/.git/hooks/post-update.sample\n",
      "Target already exists. Skipping upload for mnist/.git/hooks/pre-applypatch.sample\n",
      "Target already exists. Skipping upload for mnist/.git/hooks/pre-commit.sample\n",
      "Target already exists. Skipping upload for mnist/.git/hooks/pre-push.sample\n",
      "Target already exists. Skipping upload for mnist/.git/hooks/pre-rebase.sample\n",
      "Target already exists. Skipping upload for mnist/.git/hooks/prepare-commit-msg.sample\n",
      "Target already exists. Skipping upload for mnist/.git/hooks/update.sample\n",
      "Target already exists. Skipping upload for mnist/.git/info/exclude\n",
      "Target already exists. Skipping upload for mnist/.git/logs/HEAD\n",
      "Target already exists. Skipping upload for mnist/.git/logs/refs/heads/master\n",
      "Target already exists. Skipping upload for mnist/.git/logs/refs/remotes/origin/HEAD\n",
      "Target already exists. Skipping upload for mnist/.git/objects/0d/12a281b8cb7c3fa923e57586dd330dcebe3b72\n",
      "Target already exists. Skipping upload for mnist/.git/objects/13/4efbc81e6a615821ac5785f07a700ad111eea4\n",
      "Target already exists. Skipping upload for mnist/.git/objects/1a/40be423f283cc580a91596f22a9b5f8210f703\n",
      "Target already exists. Skipping upload for mnist/.git/objects/1f/62081904e67b5eb564c455fe42635f2eb85cc5\n",
      "Target already exists. Skipping upload for mnist/.git/objects/26/47dacaf5d4c630640ca4444d73f5b4093569fc\n",
      "Target already exists. Skipping upload for mnist/.git/objects/28/1afeba12bcbeb4ee987027a2a258df289beaf8\n",
      "Target already exists. Skipping upload for mnist/.git/objects/2d/a280542d731a74b0b4942f1a862d2805eed197\n",
      "Target already exists. Skipping upload for mnist/.git/objects/34/81af8c55f3f13f6da38c7decf40c00b6986657\n",
      "Target already exists. Skipping upload for mnist/.git/objects/4d/aeda4c831244f795424052b068aa7401a5bf9f\n",
      "Target already exists. Skipping upload for mnist/.git/objects/a3/664d447c64824ec4350094e95940e47664c735\n",
      "Target already exists. Skipping upload for mnist/.git/objects/a9/b38e5f7676546905df64f1342fcb788022cf70\n",
      "Target already exists. Skipping upload for mnist/.git/objects/cd/24505b84bf4ae45ed7611801dcd87900503eae\n",
      "Target already exists. Skipping upload for mnist/.git/objects/ef/e89d9a86e1c109c8e319615e1c5392eb65a729\n",
      "Target already exists. Skipping upload for mnist/.git/objects/f2/c83ea05289afbf4c60a8d3ae2bdc7c52004d7a\n",
      "Target already exists. Skipping upload for mnist/.git/objects/f3/cb24168f681c3f476fc8ebc7436e5e14bb7193\n",
      "Target already exists. Skipping upload for mnist/.git/objects/f4/becd43efd18cce1b7a3f92a3e5b5d25d91a50b\n",
      "Target already exists. Skipping upload for mnist/.git/objects/f9/f39a3827c688dfdc73066372ee0fdbbfe9e947\n",
      "Target already exists. Skipping upload for mnist/.git/objects/fc/9b53717dd4bf110aa5e29c54aed97cec64b81d\n",
      "Target already exists. Skipping upload for mnist/.git/refs/heads/master\n",
      "Target already exists. Skipping upload for mnist/.git/refs/remotes/origin/HEAD\n",
      "Target already exists. Skipping upload for mnist/.ipynb_checkpoints/control-checkpoint.ipynb\n",
      "Uploaded 0 files\n"
     ]
    }
   ],
   "source": [
    "ds = ws.get_default_datastore()\n",
    "mnist_data = ds.upload(src_dir = '.', target_path = 'mnist', show_progress = True)"
   ]
  },
  {
   "cell_type": "markdown",
   "metadata": {},
   "source": [
    "# Optimize hyperparameters"
   ]
  },
  {
   "cell_type": "code",
   "execution_count": 12,
   "metadata": {},
   "outputs": [],
   "source": [
    "# same as above but increase the max_steps and remove the parameters\n",
    "script_params={\n",
    "    '--data': mnist_data,\n",
    "    '--epochs': 100\n",
    "}\n",
    "\n",
    "mnist = Experiment(ws, 'mnist_lab')\n",
    "estimator = Estimator(source_directory='.',\n",
    "                      compute_target=compute,\n",
    "                      entry_script='train.py',\n",
    "                      use_gpu=True,\n",
    "                      pip_requirements_file='requirements.txt')"
   ]
  },
  {
   "cell_type": "markdown",
   "metadata": {},
   "source": [
    "## hyperparameter search"
   ]
  },
  {
   "cell_type": "code",
   "execution_count": 13,
   "metadata": {
    "scrolled": false
   },
   "outputs": [
    {
     "data": {
      "application/vnd.jupyter.widget-view+json": {
       "model_id": "ed21fb359a3e4dd486adf5c889c0fa17",
       "version_major": 2,
       "version_minor": 0
      },
      "text/plain": [
       "_HyperDriveWidget(widget_settings={'childWidgetDisplay': 'popup', 'send_telemetry': False, 'log_level': 'INFO'…"
      ]
     },
     "metadata": {},
     "output_type": "display_data"
    }
   ],
   "source": [
    "ps = RandomParameterSampling(\n",
    "    {\n",
    "        '--layer': choice(128, 512, 1024),\n",
    "        '--lr': loguniform(-15, -3),\n",
    "        '--batch': choice(16, 32, 64, 128)\n",
    "    }\n",
    ")\n",
    "\n",
    "early_termination_policy = BanditPolicy(slack_factor = 0.15, evaluation_interval=2)\n",
    "\n",
    "hyperdrive_run_config = HyperDriveConfig(estimator = estimator, \n",
    "                                            hyperparameter_sampling = ps, \n",
    "                                            policy = early_termination_policy,\n",
    "                                            primary_metric_name = \"accuracy\",\n",
    "                                            primary_metric_goal = PrimaryMetricGoal.MAXIMIZE,\n",
    "                                            max_total_runs = 10,\n",
    "                                            max_concurrent_runs = 5)\n",
    "\n",
    "hd_run = mnist.submit(hyperdrive_run_config)\n",
    "\n",
    "RunDetails(hd_run).show()"
   ]
  },
  {
   "cell_type": "code",
   "execution_count": null,
   "metadata": {},
   "outputs": [],
   "source": []
  },
  {
   "cell_type": "code",
   "execution_count": null,
   "metadata": {},
   "outputs": [],
   "source": []
  }
 ],
 "metadata": {
  "kernelspec": {
   "display_name": "Python 3.6 - AzureML",
   "language": "python",
   "name": "python3-azureml"
  },
  "language_info": {
   "codemirror_mode": {
    "name": "ipython",
    "version": 3
   },
   "file_extension": ".py",
   "mimetype": "text/x-python",
   "name": "python",
   "nbconvert_exporter": "python",
   "pygments_lexer": "ipython3",
   "version": "3.6.8"
  },
  "varInspector": {
   "cols": {
    "lenName": 16,
    "lenType": 16,
    "lenVar": 40
   },
   "kernels_config": {
    "python": {
     "delete_cmd_postfix": "",
     "delete_cmd_prefix": "del ",
     "library": "var_list.py",
     "varRefreshCmd": "print(var_dic_list())"
    },
    "r": {
     "delete_cmd_postfix": ") ",
     "delete_cmd_prefix": "rm(",
     "library": "var_list.r",
     "varRefreshCmd": "cat(var_dic_list()) "
    }
   },
   "position": {
    "height": "650.4px",
    "left": "1315.67px",
    "right": "20px",
    "top": "120px",
    "width": "361.933px"
   },
   "types_to_exclude": [
    "module",
    "function",
    "builtin_function_or_method",
    "instance",
    "_Feature"
   ],
   "window_display": false
  }
 },
 "nbformat": 4,
 "nbformat_minor": 2
}
